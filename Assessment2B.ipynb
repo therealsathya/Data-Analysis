{
  "cells": [
    {
      "cell_type": "markdown",
      "metadata": {
        "id": "-tEv1BFRBEqS"
      },
      "source": [
        "###### Assessment"
      ]
    },
    {
      "cell_type": "markdown",
      "metadata": {
        "id": "94vj3ar5BEqT"
      },
      "source": [
        "###### I am going to provide two .csv files , you are supposed to work on them and have to provide solutions to the following problems"
      ]
    },
    {
      "cell_type": "markdown",
      "metadata": {
        "id": "wfbIY-GOBEqU"
      },
      "source": [
        "###### import necessary libraries"
      ]
    },
    {
      "cell_type": "code",
      "execution_count": 1,
      "metadata": {
        "id": "c16gvT8ZBEqV"
      },
      "outputs": [],
      "source": [
        "import pandas as pd \n",
        "import matplotlib.pyplot as plt"
      ]
    },
    {
      "cell_type": "markdown",
      "metadata": {
        "id": "Y8STSTT8BEqW"
      },
      "source": [
        "###### merge those two csv files (after getting as dataframes, get them as a single dataframe)"
      ]
    },
    {
      "cell_type": "code",
      "execution_count": 2,
      "metadata": {
        "id": "jgcC_jLaBEqW"
      },
      "outputs": [],
      "source": [
        "college_1 = pd.read_csv('college_1.csv')\n",
        "college_2 = pd.read_csv('college_2.csv')\n",
        "frames = [college_1,college_2]\n",
        "con_frames = pd.concat(frames)\n",
        "con_frames.to_csv('college_final.csv', index=False)\n",
        "new_clg = pd.read_csv('college_final.csv')"
      ]
    },
    {
      "cell_type": "markdown",
      "metadata": {
        "id": "QT925zDcBEqW"
      },
      "source": [
        "###### Take each csv file , split that csv file into multiple categories (example csv files are added in the repo) \n"
      ]
    },
    {
      "cell_type": "markdown",
      "metadata": {
        "id": "qPz51Uy1BEqX"
      },
      "source": [
        "###### consider if the codekata score exceeds 15000 points(present week) then make a csv on those observations as Exceeded expectations.csv\n"
      ]
    },
    {
      "cell_type": "markdown",
      "metadata": {
        "id": "DAQuOYvoBEqY"
      },
      "source": [
        "###### if  10000<codekata score<15000   (Reached_expectations.csv)\n",
        "\n"
      ]
    },
    {
      "cell_type": "markdown",
      "metadata": {
        "id": "5QM0nudsBEqY"
      },
      "source": [
        "###### if  7000<codekata score<10000   (Needs_Improvement.csv)\n"
      ]
    },
    {
      "cell_type": "markdown",
      "metadata": {
        "id": "a1vAN9SvBEqZ"
      },
      "source": [
        "###### if  codekate score < 7000        (Unsatisfactory.csv)"
      ]
    },
    {
      "cell_type": "code",
      "execution_count": 3,
      "metadata": {
        "id": "Q4pvN9_eBEqZ"
      },
      "outputs": [],
      "source": [
        "new_clg['category'] = ''\n",
        "new_clg.reset_index()\n",
        "for i in range(0,len(con_frames)):\n",
        "    if new_clg.iloc[i]['CodeKata Score'] >= 15000:\n",
        "        new_clg.loc[i,'category'] = 'EE'\n",
        "    elif new_clg.iloc[i]['CodeKata Score'] >= 10000 and new_clg.iloc[i]['CodeKata Score'] < 15000 :\n",
        "        new_clg.loc[i,'category'] = 'RE'\n",
        "    elif new_clg.iloc[i]['CodeKata Score'] >= 7000 and new_clg.iloc[i]['CodeKata Score'] < 10000 :\n",
        "        new_clg.loc[i,'category'] = 'NI'\n",
        "    else:\n",
        "       new_clg.loc[i,'category'] = 'US'"
      ]
    },
    {
      "cell_type": "code",
      "execution_count": 4,
      "metadata": {
        "id": "eUsXlVavBEqZ"
      },
      "outputs": [],
      "source": [
        "new_clg.to_csv('category_final.csv')\n",
        "category_final = pd.read_csv('category_final.csv')"
      ]
    },
    {
      "cell_type": "markdown",
      "metadata": {
        "id": "4UkdBm4-BEqZ"
      },
      "source": [
        "###### Average of previous week geekions vs this week geekions (i.e Previous Geekions vs CodeKata Score)"
      ]
    },
    {
      "cell_type": "code",
      "execution_count": 5,
      "metadata": {
        "id": "n-vrwQ1XBEqa",
        "outputId": "82f1da06-38a5-46a1-8f76-e7c36a6e14ca",
        "colab": {
          "base_uri": "https://localhost:8080/"
        }
      },
      "outputs": [
        {
          "output_type": "stream",
          "name": "stdout",
          "text": [
            "3842.3529411764707\n",
            "4051.764705882353\n",
            "Average of CodeKata Score is greater than the Average of Previous Geekions\n"
          ]
        }
      ],
      "source": [
        "avg_prev_gk = new_clg['Previous'' ' 'Geekions'].mean()\n",
        "print(avg_prev_gk)\n",
        "avg_code_sc = new_clg['CodeKata'' ' 'Score'].mean()\n",
        "print(avg_code_sc)\n",
        "if avg_prev_gk > avg_code_sc:\n",
        "  print(\"Average of Previous Geekions is greater than the Average of CodeKata Score\")\n",
        "elif avg_prev_gk < avg_code_sc:\n",
        "  print(\"Average of CodeKata Score is greater than the Average of Previous Geekions\")\n",
        "else:\n",
        "  print(\"Average of Previous Geekions is equal to the Average of CodeKata Score\")\n",
        "\n"
      ]
    },
    {
      "cell_type": "markdown",
      "metadata": {
        "id": "qb0uU6uQBEqa"
      },
      "source": [
        "###### No of students participated "
      ]
    },
    {
      "cell_type": "code",
      "execution_count": 6,
      "metadata": {
        "id": "b7VkJR6PBEqa",
        "outputId": "dce1e57d-82d7-4764-bff2-6481ef5b5ddf",
        "colab": {
          "base_uri": "https://localhost:8080/"
        }
      },
      "outputs": [
        {
          "output_type": "stream",
          "name": "stdout",
          "text": [
            "No. of Students participated are 119\n"
          ]
        }
      ],
      "source": [
        "len_participants= len(new_clg)\n",
        "print(\"No. of Students participated are\", len_participants)"
      ]
    },
    {
      "cell_type": "markdown",
      "metadata": {
        "id": "5uH9qwIUBEqa"
      },
      "source": [
        "###### #Average completion of python course or my_sql or python english or computational thinking"
      ]
    },
    {
      "cell_type": "code",
      "execution_count": 7,
      "metadata": {
        "id": "KoqXrWqjBEqa",
        "outputId": "e0fb9bfe-9865-4d51-89ff-5c407a34bf96",
        "colab": {
          "base_uri": "https://localhost:8080/"
        }
      },
      "outputs": [
        {
          "output_type": "stream",
          "name": "stdout",
          "text": [
            "The average completion of python course or my_sql or python english or computational thinking is 96.64 %\n"
          ]
        }
      ],
      "source": [
        "up_new_clg = new_clg.fillna(0)\n",
        "count = 0\n",
        "for i in range(0, len(up_new_clg)):\n",
        "  if up_new_clg.iloc[i][\"python\"] > 0 or up_new_clg.iloc[i][\"mysql\"] or up_new_clg.iloc[i][\"python_en\"] or up_new_clg.iloc[i][\"computational_thinking\"] :\n",
        "    count+=1\n",
        "average = (count/len(up_new_clg))*100\n",
        "round_average= round(average,2)\n",
        "print(\"The average completion of python course or my_sql or python english or computational thinking is\", round_average, \"%\")   "
      ]
    },
    {
      "cell_type": "markdown",
      "metadata": {
        "id": "KUYWwLBDBEqb"
      },
      "source": [
        "###### rising star of the week (top 3 candidate who performed well in that particular week)"
      ]
    },
    {
      "cell_type": "code",
      "execution_count": 8,
      "metadata": {
        "id": "9C0Ef3guBEqb",
        "outputId": "41a2a1cc-bcc9-492d-b69b-957c66ca98c2",
        "colab": {
          "base_uri": "https://localhost:8080/"
        }
      },
      "outputs": [
        {
          "output_type": "stream",
          "name": "stdout",
          "text": [
            "                  Name  Rising\n",
            "92            shifak N    3140\n",
            "102     Narasimhan Y L    2000\n",
            "86   Ganesh Ramkumar R    2000\n"
          ]
        }
      ],
      "source": [
        "rising_star = new_clg.sort_values(by=['Rising'], ascending=False)\n",
        "three_rising_star = rising_star.head(3)\n",
        "print(three_rising_star[['Name', 'Rising']])"
      ]
    },
    {
      "cell_type": "markdown",
      "metadata": {
        "id": "vi5PO20SBEqb"
      },
      "source": [
        "###### Shining stars of the week (top 3 candidates who has highest geekions)"
      ]
    },
    {
      "cell_type": "code",
      "execution_count": 9,
      "metadata": {
        "id": "aKXo90lqBEqb",
        "outputId": "e1ce8c1d-88fe-4cc2-efe8-b9bd6203e70b",
        "colab": {
          "base_uri": "https://localhost:8080/"
        }
      },
      "outputs": [
        {
          "output_type": "stream",
          "name": "stdout",
          "text": [
            "          Name  CodeKata Score\n",
            "0    A.Dharani           24500\n",
            "1  V.JEEVITHA            21740\n",
            "2  HEMAVATHI.R           19680\n"
          ]
        }
      ],
      "source": [
        "shining_stars = new_clg.sort_values(by=['CodeKata Score'], ascending=False)\n",
        "three_shining_stars = shining_stars.head(3)\n",
        "print(three_shining_stars[['Name', 'CodeKata Score']])"
      ]
    },
    {
      "cell_type": "markdown",
      "metadata": {
        "id": "EPW9ii85BEqb"
      },
      "source": [
        "###### Department wise codekata performence (pie chart)"
      ]
    },
    {
      "cell_type": "code",
      "execution_count": 10,
      "metadata": {
        "id": "qJ-N96yRBEqc",
        "outputId": "ca80cf84-35e5-4527-a240-9eb75d8474ed",
        "colab": {
          "base_uri": "https://localhost:8080/",
          "height": 411
        }
      },
      "outputs": [
        {
          "output_type": "display_data",
          "data": {
            "text/plain": [
              "<Figure size 720x504 with 1 Axes>"
            ],
            "image/png": "[encoded data removed]"
          },
          "metadata": {}
        }
      ],
      "source": [
        "import matplotlib.pyplot as plt\n",
        "dep_sep = up_new_clg.groupby(['Department'])\n",
        "cse_sep = dep_sep.get_group('Computer Science and Engineering')\n",
        "len_cse_sep= len(cse_sep)\n",
        "ece_sep = dep_sep.get_group('Electronics and Communication Engineering')\n",
        "len_ece_sep= len(ece_sep)\n",
        "eee_sep = dep_sep.get_group('Electronics and Electrical Engineering')\n",
        "len_eee_sep= len(eee_sep)\n",
        "Departments = [\"Computer Science and Engineering\",\"Electronics and Communication Engineering,\",\"Electronics and Electrical Engineering\"]\n",
        "data = [len_cse_sep,len_ece_sep,len_eee_sep]\n",
        "fig = plt.figure(figsize =(10, 7))\n",
        "plt.pie(data, labels = Departments)\n",
        "plt.show()"
      ]
    },
    {
      "cell_type": "markdown",
      "metadata": {
        "id": "qZkOtgNRBEqc"
      },
      "source": [
        "###### Department wise toppers (horizantal bar graph or any visual representations of your choice)"
      ]
    },
    {
      "cell_type": "code",
      "execution_count": 11,
      "metadata": {
        "id": "GTva5nqCBEqc",
        "outputId": "dd6b2175-5254-4c88-deca-83ec008cc469",
        "colab": {
          "base_uri": "https://localhost:8080/",
          "height": 399
        }
      },
      "outputs": [
        {
          "output_type": "stream",
          "name": "stdout",
          "text": [
            "          Name  CodeKata Score\n",
            "0    A.Dharani           24500\n",
            "1  V.JEEVITHA            21740\n",
            "2  HEMAVATHI.R           19680\n",
            "3  Mugunthan S           10610\n",
            "4  Sathammai.S            8980\n"
          ]
        },
        {
          "output_type": "display_data",
          "data": {
            "text/plain": [
              "<Figure size 432x288 with 1 Axes>"
            ],
            "image/png": "[encoded data removed]"
          },
          "metadata": {
            "needs_background": "light"
          }
        }
      ],
      "source": [
        "toppers_cse = cse_sep.sort_values(by=['CodeKata Score'], ascending=False)\n",
        "five_toppers_cse= cse_sep.head()\n",
        "print(five_toppers_cse[['Name', 'CodeKata Score']])\n",
        "data = {\"Score\": [24500,21740,19680,10610,8980]}\n",
        "df = pd.DataFrame(data,columns=['Score'], index = ['A.Dharani','V.JEEVITHA','HEMAVATHI.R','Mugunthan S','Sathammai.S'])\n",
        "\n",
        "df.plot.barh()\n",
        "\n",
        "plt.title('Computer Science and Engineering Toppers')\n",
        "plt.ylabel('Name')\n",
        "plt.xlabel('Score')\n",
        "plt.show()"
      ]
    },
    {
      "cell_type": "code",
      "execution_count": 12,
      "metadata": {
        "id": "f0dvAyZ6BEqc",
        "outputId": "17f34a8a-2eae-420c-fb7f-1a0cf4bf2ef8",
        "colab": {
          "base_uri": "https://localhost:8080/",
          "height": 399
        }
      },
      "outputs": [
        {
          "output_type": "stream",
          "name": "stdout",
          "text": [
            "               Name  CodeKata Score\n",
            "6     KALAIARASAN K            7880\n",
            "8        J.SUGANTHI            5860\n",
            "10  Iyappan Samiraj            5400\n",
            "14  Melvin Dukles.R            4800\n",
            "17      v.vithyasri            4370\n"
          ]
        },
        {
          "output_type": "display_data",
          "data": {
            "text/plain": [
              "<Figure size 432x288 with 1 Axes>"
            ],
            "image/png": "[encoded data removed]"
          },
          "metadata": {
            "needs_background": "light"
          }
        }
      ],
      "source": [
        "toppers_ece = ece_sep.sort_values(by=['CodeKata Score'], ascending=False)\n",
        "five_toppers_ece= ece_sep.head()\n",
        "print(five_toppers_ece[['Name', 'CodeKata Score']])\n",
        "data = {\"Score\": [7880,5860,5400,4800,4370]}\n",
        "df = pd.DataFrame(data,columns=['Score'], index = ['KALAIARASAN K','J.SUGANTHI','Iyappan Samiraj','Melvin Dukles.R','v.vithyasri'])\n",
        "\n",
        "df.plot.barh()\n",
        "\n",
        "plt.title('Electronics and Communication Engineering Toppers')\n",
        "plt.ylabel('Name')\n",
        "plt.xlabel('Score')\n",
        "plt.show()"
      ]
    },
    {
      "cell_type": "code",
      "execution_count": 13,
      "metadata": {
        "id": "5USkHxynBEqc",
        "outputId": "5ac9fed5-9203-4afd-e4c4-9bd1fcfe711b",
        "colab": {
          "base_uri": "https://localhost:8080/",
          "height": 399
        }
      },
      "outputs": [
        {
          "output_type": "stream",
          "name": "stdout",
          "text": [
            "               Name  CodeKata Score\n",
            "64       k.parvathi             260\n",
            "71      m.keerthana             120\n",
            "72       Subhashini             120\n",
            "74  J.Bhuvaneshwari             100\n",
            "75         santhosh              60\n"
          ]
        },
        {
          "output_type": "display_data",
          "data": {
            "text/plain": [
              "<Figure size 432x288 with 1 Axes>"
            ],
            "image/png": "[encoded data removed]"
          },
          "metadata": {
            "needs_background": "light"
          }
        }
      ],
      "source": [
        "toppers_eee = eee_sep.sort_values(by=['CodeKata Score'], ascending=False)\n",
        "five_toppers_eee= eee_sep.head()\n",
        "print(five_toppers_eee[['Name', 'CodeKata Score']])\n",
        "data = {\"Score\": [260,120,120,100,60]}\n",
        "df = pd.DataFrame(data,columns=['Score'], index = ['k.parvathi','m.keerthana','Subhashini','J.Bhuvaneshwari','santhosh'])\n",
        "\n",
        "df.plot.barh()\n",
        "\n",
        "plt.title('Electronics and Electrical Engineering Toppers')\n",
        "plt.ylabel('Name')\n",
        "plt.xlabel('Score')\n",
        "plt.show()"
      ]
    }
  ],
  "metadata": {
    "kernelspec": {
      "display_name": "Python 3",
      "language": "python",
      "name": "python3"
    },
    "language_info": {
      "codemirror_mode": {
        "name": "ipython",
        "version": 3
      },
      "file_extension": ".py",
      "mimetype": "text/x-python",
      "name": "python",
      "nbconvert_exporter": "python",
      "pygments_lexer": "ipython3",
      "version": "3.8.3"
    },
    "colab": {
      "name": "Assessment2B.ipynb",
      "provenance": []
    }
  },
  "nbformat": 4,
  "nbformat_minor": 0
}